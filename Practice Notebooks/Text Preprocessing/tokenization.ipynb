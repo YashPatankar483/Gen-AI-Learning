{
 "cells": [
  {
   "cell_type": "code",
   "execution_count": 19,
   "id": "f474f8ac-c236-4f80-ab48-ae8663f4c504",
   "metadata": {},
   "outputs": [
    {
     "name": "stdout",
     "output_type": "stream",
     "text": [
      "Requirement already satisfied: nltk in c:\\users\\hp\\desktop\\my learning\\genai\\environment_creation\\venv\\lib\\site-packages (3.9.1)\n",
      "Requirement already satisfied: click in c:\\users\\hp\\desktop\\my learning\\genai\\environment_creation\\venv\\lib\\site-packages (from nltk) (8.2.1)\n",
      "Requirement already satisfied: joblib in c:\\users\\hp\\desktop\\my learning\\genai\\environment_creation\\venv\\lib\\site-packages (from nltk) (1.5.1)\n",
      "Requirement already satisfied: regex>=2021.8.3 in c:\\users\\hp\\desktop\\my learning\\genai\\environment_creation\\venv\\lib\\site-packages (from nltk) (2024.11.6)\n",
      "Requirement already satisfied: tqdm in c:\\users\\hp\\desktop\\my learning\\genai\\environment_creation\\venv\\lib\\site-packages (from nltk) (4.67.1)\n",
      "Requirement already satisfied: colorama in c:\\users\\hp\\desktop\\my learning\\genai\\environment_creation\\venv\\lib\\site-packages (from click->nltk) (0.4.6)\n"
     ]
    }
   ],
   "source": [
    "!pip install nltk"
   ]
  },
  {
   "cell_type": "markdown",
   "id": "8df0d092-e586-46d4-ac41-8fae2c92f1f6",
   "metadata": {},
   "source": [
    "# Tokenize"
   ]
  },
  {
   "cell_type": "code",
   "execution_count": 20,
   "id": "9f6f0e6b-9d33-4670-a0e4-ed3bbd9401f5",
   "metadata": {},
   "outputs": [
    {
     "name": "stderr",
     "output_type": "stream",
     "text": [
      "[nltk_data] Downloading package punkt_tab to\n",
      "[nltk_data]     C:\\Users\\HP\\AppData\\Roaming\\nltk_data...\n",
      "[nltk_data]   Package punkt_tab is already up-to-date!\n"
     ]
    }
   ],
   "source": [
    "# Paragraph to sentence tokenization\n",
    "import nltk\n",
    "nltk.download('punkt_tab')\n",
    "from nltk.tokenize import sent_tokenize"
   ]
  },
  {
   "cell_type": "code",
   "execution_count": 21,
   "id": "1f39d1fe-1063-4eff-8f9b-0e10db35583d",
   "metadata": {},
   "outputs": [],
   "source": [
    "corpus = '''Hello Universe! Hope you are all doing well. It's a great feeling to witness RCB winning their first IPL trophy after 17 years i.e. on 18th IPL season. I am happy for Virat Kohli!\n",
    "'''"
   ]
  },
  {
   "cell_type": "code",
   "execution_count": 22,
   "id": "e34a9f6d-9e3b-46ee-b262-ec9603b22810",
   "metadata": {},
   "outputs": [
    {
     "data": {
      "text/plain": [
       "\"Hello Universe! Hope you are all doing well. It's a great feeling to witness RCB winning their first IPL trophy after 17 years i.e. on 18th IPL season. I am happy for Virat Kohli!\\n\""
      ]
     },
     "execution_count": 22,
     "metadata": {},
     "output_type": "execute_result"
    }
   ],
   "source": [
    "corpus"
   ]
  },
  {
   "cell_type": "code",
   "execution_count": 23,
   "id": "39a015ed-bd53-4ed5-806e-69574550b554",
   "metadata": {},
   "outputs": [
    {
     "data": {
      "text/plain": [
       "['Hello Universe!',\n",
       " 'Hope you are all doing well.',\n",
       " \"It's a great feeling to witness RCB winning their first IPL trophy after 17 years i.e.\",\n",
       " 'on 18th IPL season.',\n",
       " 'I am happy for Virat Kohli!']"
      ]
     },
     "execution_count": 23,
     "metadata": {},
     "output_type": "execute_result"
    }
   ],
   "source": [
    "documents = sent_tokenize(corpus)\n",
    "documents"
   ]
  },
  {
   "cell_type": "code",
   "execution_count": 24,
   "id": "d4111fde-8a31-44d4-b0d9-25fc7af9758b",
   "metadata": {},
   "outputs": [],
   "source": [
    "# Paragraph to words\n",
    "from nltk.tokenize import word_tokenize"
   ]
  },
  {
   "cell_type": "code",
   "execution_count": 25,
   "id": "cf98ae78-200e-4bed-8145-1e7e638cf6f4",
   "metadata": {},
   "outputs": [
    {
     "data": {
      "text/plain": [
       "['Hello',\n",
       " 'Universe',\n",
       " '!',\n",
       " 'Hope',\n",
       " 'you',\n",
       " 'are',\n",
       " 'all',\n",
       " 'doing',\n",
       " 'well',\n",
       " '.',\n",
       " 'It',\n",
       " \"'s\",\n",
       " 'a',\n",
       " 'great',\n",
       " 'feeling',\n",
       " 'to',\n",
       " 'witness',\n",
       " 'RCB',\n",
       " 'winning',\n",
       " 'their',\n",
       " 'first',\n",
       " 'IPL',\n",
       " 'trophy',\n",
       " 'after',\n",
       " '17',\n",
       " 'years',\n",
       " 'i.e',\n",
       " '.',\n",
       " 'on',\n",
       " '18th',\n",
       " 'IPL',\n",
       " 'season',\n",
       " '.',\n",
       " 'I',\n",
       " 'am',\n",
       " 'happy',\n",
       " 'for',\n",
       " 'Virat',\n",
       " 'Kohli',\n",
       " '!']"
      ]
     },
     "execution_count": 25,
     "metadata": {},
     "output_type": "execute_result"
    }
   ],
   "source": [
    "tokens = word_tokenize(corpus)\n",
    "tokens"
   ]
  },
  {
   "cell_type": "code",
   "execution_count": 26,
   "id": "0868daf3-7733-46aa-9b54-c9d403d4bf5c",
   "metadata": {},
   "outputs": [],
   "source": [
    "# wordpunct_tokenize\n",
    "from nltk import wordpunct_tokenize"
   ]
  },
  {
   "cell_type": "code",
   "execution_count": 27,
   "id": "885c025e-4ad9-46ba-8f44-6ad84ca466eb",
   "metadata": {},
   "outputs": [
    {
     "data": {
      "text/plain": [
       "['Hello',\n",
       " 'Universe',\n",
       " '!',\n",
       " 'Hope',\n",
       " 'you',\n",
       " 'are',\n",
       " 'all',\n",
       " 'doing',\n",
       " 'well',\n",
       " '.',\n",
       " 'It',\n",
       " \"'\",\n",
       " 's',\n",
       " 'a',\n",
       " 'great',\n",
       " 'feeling',\n",
       " 'to',\n",
       " 'witness',\n",
       " 'RCB',\n",
       " 'winning',\n",
       " 'their',\n",
       " 'first',\n",
       " 'IPL',\n",
       " 'trophy',\n",
       " 'after',\n",
       " '17',\n",
       " 'years',\n",
       " 'i',\n",
       " '.',\n",
       " 'e',\n",
       " '.',\n",
       " 'on',\n",
       " '18th',\n",
       " 'IPL',\n",
       " 'season',\n",
       " '.',\n",
       " 'I',\n",
       " 'am',\n",
       " 'happy',\n",
       " 'for',\n",
       " 'Virat',\n",
       " 'Kohli',\n",
       " '!']"
      ]
     },
     "execution_count": 27,
     "metadata": {},
     "output_type": "execute_result"
    }
   ],
   "source": [
    "punct_tokens = wordpunct_tokenize(corpus)\n",
    "punct_tokens"
   ]
  },
  {
   "cell_type": "code",
   "execution_count": 28,
   "id": "976b48fb-74f7-4835-906b-9ee4935c91a4",
   "metadata": {},
   "outputs": [],
   "source": [
    "# TreebankWorkTokenizer\n",
    "from nltk import TreebankWordTokenizer"
   ]
  },
  {
   "cell_type": "code",
   "execution_count": 29,
   "id": "278723e0-af7a-4fb0-9ff8-a70261fb0723",
   "metadata": {},
   "outputs": [],
   "source": [
    "tokenizer = TreebankWordTokenizer()"
   ]
  },
  {
   "cell_type": "code",
   "execution_count": 31,
   "id": "5be32ad9-b00a-47b5-a349-18e2c8b9babb",
   "metadata": {},
   "outputs": [
    {
     "data": {
      "text/plain": [
       "['Hello',\n",
       " 'Universe',\n",
       " '!',\n",
       " 'Hope',\n",
       " 'you',\n",
       " 'are',\n",
       " 'all',\n",
       " 'doing',\n",
       " 'well.',\n",
       " 'It',\n",
       " \"'s\",\n",
       " 'a',\n",
       " 'great',\n",
       " 'feeling',\n",
       " 'to',\n",
       " 'witness',\n",
       " 'RCB',\n",
       " 'winning',\n",
       " 'their',\n",
       " 'first',\n",
       " 'IPL',\n",
       " 'trophy',\n",
       " 'after',\n",
       " '17',\n",
       " 'years',\n",
       " 'i.e.',\n",
       " 'on',\n",
       " '18th',\n",
       " 'IPL',\n",
       " 'season.',\n",
       " 'I',\n",
       " 'am',\n",
       " 'happy',\n",
       " 'for',\n",
       " 'Virat',\n",
       " 'Kohli',\n",
       " '!']"
      ]
     },
     "execution_count": 31,
     "metadata": {},
     "output_type": "execute_result"
    }
   ],
   "source": [
    "tree_tokens = tokenizer.tokenize(corpus)\n",
    "tree_tokens"
   ]
  },
  {
   "cell_type": "code",
   "execution_count": null,
   "id": "84fc6847-f04f-4461-9bea-13ec6d902ab5",
   "metadata": {},
   "outputs": [],
   "source": []
  }
 ],
 "metadata": {
  "kernelspec": {
   "display_name": "Python [conda env:venv]",
   "language": "python",
   "name": "conda-env-venv-py"
  },
  "language_info": {
   "codemirror_mode": {
    "name": "ipython",
    "version": 3
   },
   "file_extension": ".py",
   "mimetype": "text/x-python",
   "name": "python",
   "nbconvert_exporter": "python",
   "pygments_lexer": "ipython3",
   "version": "3.13.0"
  }
 },
 "nbformat": 4,
 "nbformat_minor": 5
}
